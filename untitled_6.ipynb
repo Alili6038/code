{
 "cells": [
  {
   "cell_type": "code",
   "execution_count": 1,
   "metadata": {},
   "outputs": [],
   "source": [
    "import matplotlib.pyplot as plt\n",
    "\n",
    "import numpy as np"
   ]
  },
  {
   "cell_type": "code",
   "execution_count": 2,
   "metadata": {},
   "outputs": [
    {
     "ename": "IndentationError",
     "evalue": "expected an indented block (<ipython-input-2-e353aa214a24>, line 20)",
     "output_type": "error",
     "traceback": [
      "\u001b[1;36m  File \u001b[1;32m\"<ipython-input-2-e353aa214a24>\"\u001b[1;36m, line \u001b[1;32m20\u001b[0m\n\u001b[1;33m    plt.text(x2016, y2016+100, '%s' %y2016)\u001b[0m\n\u001b[1;37m      ^\u001b[0m\n\u001b[1;31mIndentationError\u001b[0m\u001b[1;31m:\u001b[0m expected an indented block\n"
     ]
    }
   ],
   "source": [
    "Y2016 = [15600,12700,11300,4270,3620]\n",
    "Y2017 = [17400,14800,12000,5200,4020]\n",
    "\n",
    "yvals = [175, 180.37, 181.66, 180.47]\n",
    "rects1 = ax.bar(ind, yvals, width, color='silver', yerr=a)\n",
    "zvals = [174.75, 149.8, 147.01, 155.17]\n",
    "rects2 = ax.bar(ind+width, zvals, width, color='y', yerr=b)\n",
    "kvals = [125.34, 120.25, 129.29, 125.19]\n",
    "rects3 = ax.bar(ind+width*2, kvals, width, color='m', yerr=c)\n",
    "lvals4 = [71.13, 72.29, 71.78, 69.91]\n",
    "rects4 = ax.bar(ind+width*2, kvals, width, color='c', yerr=d)\n",
    "\n",
    "labels = ['北京','上海','香港','深圳','广州']\n",
    "bar_width = 0.45\n",
    "\n",
    "# 绘图\n",
    "plt.bar(np.arange(5), yvals, label = '0,0', color = 'steelblue', alpha = 0.8, width = bar_width)\n",
    "plt.bar(np.arange(5)+bar_width, zvals, label = '0.5,0', color = 'indianred', alpha = 0.8, width = bar_width)\n",
    "plt.bar(np.arange(5)+2*bar_width, zvals, label = '0.5,0', color = 'indianred', alpha = 0.8, width = bar_width)\n",
    "# 添加轴标签\n",
    "plt.xlabel('Top5城市')\n",
    "plt.ylabel('家庭数量')\n",
    "# 添加标题\n",
    "plt.title('亿万财富家庭数Top5城市分布')\n",
    "# 添加刻度标签\n",
    "plt.xticks(np.arange(5)+bar_width,labels)\n",
    "# 设置Y轴的刻度范围\n",
    "plt.ylim([2500, 19000])\n",
    "# 为每个条形图添加数值标签\n",
    "for x2016,y2016 in enumerate(Y2016):\n",
    "plt.text(x2016, y2016+100, '%s' %y2016)\n",
    "for x2017,y2017 in enumerate(Y2017):\n",
    "plt.text(x2017+bar_width, y2017+100, '%s' %y2017)\n",
    "# 显示图例\n",
    "plt.legend()\n",
    "# 显示图形\n",
    "plt.show()"
   ]
  },
  {
   "cell_type": "code",
   "execution_count": null,
   "metadata": {},
   "outputs": [],
   "source": []
  }
 ],
 "metadata": {
  "kernelspec": {
   "display_name": "Python 3",
   "language": "python",
   "name": "python3"
  },
  "language_info": {
   "codemirror_mode": {
    "name": "ipython",
    "version": 3
   },
   "file_extension": ".py",
   "mimetype": "text/x-python",
   "name": "python",
   "nbconvert_exporter": "python",
   "pygments_lexer": "ipython3",
   "version": "3.6.0"
  }
 },
 "nbformat": 4,
 "nbformat_minor": 2
}
