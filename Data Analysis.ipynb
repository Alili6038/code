{
 "cells": [
  {
   "cell_type": "code",
   "execution_count": 2,
   "metadata": {},
   "outputs": [],
   "source": [
    "import matplotlib.pyplot as plt\n",
    "import seaborn as sns\n",
    "sns.set_style('darkgrid')\n",
    "sns.set_context('talk')\n",
    "\n",
    "import numpy as np\n",
    "from numpy import array\n",
    "import pandas as pd"
   ]
  },
  {
   "cell_type": "code",
   "execution_count": 3,
   "metadata": {},
   "outputs": [],
   "source": [
    "# Import and process data\n",
    "\n",
    "data = pd.read_csv('data.csv')\n",
    "for i in range(len(data)):\n",
    "    data.at[i, 'final_test_rews_0'] = eval(data.at[i, 'final_test_rews_0'])\n",
    "    data.at[i, 'final_test_rews_0.25'] = eval(data.at[i, 'final_test_rews_0.25'])\n",
    "    data.at[i, 'final_test_rews_0.5'] = eval(data.at[i, 'final_test_rews_0.5'])\n",
    "    data.at[i, 'final_test_rews_1'] = eval(data.at[i, 'final_test_rews_1'])\n",
    "    data.at[i, 'final_train_rews'] = eval(data.at[i, 'final_train_rews'])\n",
    "    data.at[i, 'train_rews'] = eval(data.at[i, 'train_rews'])"
   ]
  },
  {
   "cell_type": "code",
   "execution_count": 4,
   "metadata": {},
   "outputs": [
    {
     "data": {
      "text/html": [
       "<div>\n",
       "<style scoped>\n",
       "    .dataframe tbody tr th:only-of-type {\n",
       "        vertical-align: middle;\n",
       "    }\n",
       "\n",
       "    .dataframe tbody tr th {\n",
       "        vertical-align: top;\n",
       "    }\n",
       "\n",
       "    .dataframe thead th {\n",
       "        text-align: right;\n",
       "    }\n",
       "</style>\n",
       "<table border=\"1\" class=\"dataframe\">\n",
       "  <thead>\n",
       "    <tr style=\"text-align: right;\">\n",
       "      <th></th>\n",
       "      <th>Unnamed: 0</th>\n",
       "      <th>seed</th>\n",
       "      <th>save_file</th>\n",
       "      <th>force_overwrite</th>\n",
       "      <th>weight_std_reward</th>\n",
       "      <th>weight_std_policy</th>\n",
       "      <th>env_name</th>\n",
       "      <th>std_obs_scale_train</th>\n",
       "      <th>std_obs_scales_test</th>\n",
       "      <th>search_method</th>\n",
       "      <th>...</th>\n",
       "      <th>n_iterations</th>\n",
       "      <th>T</th>\n",
       "      <th>n_evals</th>\n",
       "      <th>top_k</th>\n",
       "      <th>train_rews</th>\n",
       "      <th>final_train_rews</th>\n",
       "      <th>final_test_rews_0</th>\n",
       "      <th>final_test_rews_0.25</th>\n",
       "      <th>final_test_rews_0.5</th>\n",
       "      <th>final_test_rews_1</th>\n",
       "    </tr>\n",
       "  </thead>\n",
       "  <tbody>\n",
       "    <tr>\n",
       "      <th>0</th>\n",
       "      <td>0</td>\n",
       "      <td>0</td>\n",
       "      <td>data.csv</td>\n",
       "      <td>False</td>\n",
       "      <td>0.00</td>\n",
       "      <td>0.00</td>\n",
       "      <td>CartPole-v1</td>\n",
       "      <td>0.0</td>\n",
       "      <td>[0, 0.25, 0.5, 1]</td>\n",
       "      <td>RS</td>\n",
       "      <td>...</td>\n",
       "      <td>30</td>\n",
       "      <td>200</td>\n",
       "      <td>10</td>\n",
       "      <td>5</td>\n",
       "      <td>[9.5, 147.1, 152.7, 157.8, 188.1, 188.8, 150.9...</td>\n",
       "      <td>[200.0, 200.0, 200.0, 200.0, 200.0, 200.0, 200...</td>\n",
       "      <td>[200.0, 200.0, 200.0, 200.0, 200.0, 200.0, 200...</td>\n",
       "      <td>[200.0, 200.0, 200.0, 200.0, 200.0, 200.0, 200...</td>\n",
       "      <td>[102.0, 154.0, 200.0, 200.0, 195.0, 200.0, 111...</td>\n",
       "      <td>[117.0, 27.0, 125.0, 145.0, 136.0, 167.0, 132....</td>\n",
       "    </tr>\n",
       "    <tr>\n",
       "      <th>1</th>\n",
       "      <td>0</td>\n",
       "      <td>0</td>\n",
       "      <td>data.csv</td>\n",
       "      <td>False</td>\n",
       "      <td>0.50</td>\n",
       "      <td>0.00</td>\n",
       "      <td>CartPole-v1</td>\n",
       "      <td>0.0</td>\n",
       "      <td>[0, 0.25, 0.5, 1]</td>\n",
       "      <td>RS</td>\n",
       "      <td>...</td>\n",
       "      <td>30</td>\n",
       "      <td>200</td>\n",
       "      <td>10</td>\n",
       "      <td>5</td>\n",
       "      <td>[9.92912878474779, 144.2071209296968, 164.7561...</td>\n",
       "      <td>[200.0, 200.0, 200.0, 200.0, 200.0, 200.0, 200...</td>\n",
       "      <td>[200.0, 200.0, 200.0, 200.0, 200.0, 200.0, 200...</td>\n",
       "      <td>[200.0, 200.0, 200.0, 200.0, 158.0, 200.0, 200...</td>\n",
       "      <td>[200.0, 155.0, 135.0, 117.0, 200.0, 200.0, 200...</td>\n",
       "      <td>[95.0, 33.0, 145.0, 39.0, 34.0, 46.0, 139.0, 4...</td>\n",
       "    </tr>\n",
       "    <tr>\n",
       "      <th>2</th>\n",
       "      <td>0</td>\n",
       "      <td>0</td>\n",
       "      <td>data.csv</td>\n",
       "      <td>False</td>\n",
       "      <td>0.00</td>\n",
       "      <td>0.50</td>\n",
       "      <td>CartPole-v1</td>\n",
       "      <td>0.0</td>\n",
       "      <td>[0, 0.25, 0.5, 1]</td>\n",
       "      <td>RS</td>\n",
       "      <td>...</td>\n",
       "      <td>30</td>\n",
       "      <td>200</td>\n",
       "      <td>10</td>\n",
       "      <td>5</td>\n",
       "      <td>[36.77210630803543, 207.8014216509091, 198.057...</td>\n",
       "      <td>[200.0, 200.0, 200.0, 182.0, 200.0, 200.0, 200...</td>\n",
       "      <td>[200.0, 200.0, 176.0, 200.0, 200.0, 177.0, 168...</td>\n",
       "      <td>[158.0, 200.0, 200.0, 200.0, 200.0, 148.0, 200...</td>\n",
       "      <td>[190.0, 144.0, 200.0, 167.0, 132.0, 200.0, 177...</td>\n",
       "      <td>[36.0, 30.0, 130.0, 99.0, 163.0, 22.0, 31.0, 9...</td>\n",
       "    </tr>\n",
       "    <tr>\n",
       "      <th>3</th>\n",
       "      <td>0</td>\n",
       "      <td>0</td>\n",
       "      <td>data.csv</td>\n",
       "      <td>False</td>\n",
       "      <td>0.25</td>\n",
       "      <td>0.25</td>\n",
       "      <td>CartPole-v1</td>\n",
       "      <td>0.0</td>\n",
       "      <td>[0, 0.25, 0.5, 1]</td>\n",
       "      <td>RS</td>\n",
       "      <td>...</td>\n",
       "      <td>30</td>\n",
       "      <td>200</td>\n",
       "      <td>10</td>\n",
       "      <td>5</td>\n",
       "      <td>[22.800014468682754, 215.11603143189376, 211.8...</td>\n",
       "      <td>[200.0, 200.0, 164.0, 200.0, 180.0, 200.0, 200...</td>\n",
       "      <td>[198.0, 200.0, 200.0, 200.0, 200.0, 200.0, 167...</td>\n",
       "      <td>[162.0, 189.0, 200.0, 188.0, 168.0, 200.0, 200...</td>\n",
       "      <td>[183.0, 137.0, 26.0, 200.0, 127.0, 151.0, 200....</td>\n",
       "      <td>[95.0, 159.0, 14.0, 64.0, 21.0, 143.0, 116.0, ...</td>\n",
       "    </tr>\n",
       "    <tr>\n",
       "      <th>4</th>\n",
       "      <td>0</td>\n",
       "      <td>0</td>\n",
       "      <td>data.csv</td>\n",
       "      <td>False</td>\n",
       "      <td>0.00</td>\n",
       "      <td>0.00</td>\n",
       "      <td>CartPole-v1</td>\n",
       "      <td>0.0</td>\n",
       "      <td>[0, 0.25, 0.5, 1]</td>\n",
       "      <td>CEM</td>\n",
       "      <td>...</td>\n",
       "      <td>30</td>\n",
       "      <td>200</td>\n",
       "      <td>10</td>\n",
       "      <td>5</td>\n",
       "      <td>[9.3, 178.9, 200.0, 200.0, 200.0, 200.0, 200.0...</td>\n",
       "      <td>[200.0, 200.0, 200.0, 200.0, 200.0, 200.0, 200...</td>\n",
       "      <td>[200.0, 200.0, 200.0, 200.0, 200.0, 200.0, 200...</td>\n",
       "      <td>[189.0, 200.0, 200.0, 122.0, 200.0, 200.0, 200...</td>\n",
       "      <td>[130.0, 85.0, 67.0, 88.0, 140.0, 150.0, 97.0, ...</td>\n",
       "      <td>[16.0, 70.0, 24.0, 94.0, 33.0, 120.0, 21.0, 50...</td>\n",
       "    </tr>\n",
       "  </tbody>\n",
       "</table>\n",
       "<p>5 rows × 23 columns</p>\n",
       "</div>"
      ],
      "text/plain": [
       "   Unnamed: 0  seed save_file  force_overwrite  weight_std_reward  \\\n",
       "0           0     0  data.csv            False               0.00   \n",
       "1           0     0  data.csv            False               0.50   \n",
       "2           0     0  data.csv            False               0.00   \n",
       "3           0     0  data.csv            False               0.25   \n",
       "4           0     0  data.csv            False               0.00   \n",
       "\n",
       "   weight_std_policy     env_name  std_obs_scale_train std_obs_scales_test  \\\n",
       "0               0.00  CartPole-v1                  0.0   [0, 0.25, 0.5, 1]   \n",
       "1               0.00  CartPole-v1                  0.0   [0, 0.25, 0.5, 1]   \n",
       "2               0.50  CartPole-v1                  0.0   [0, 0.25, 0.5, 1]   \n",
       "3               0.25  CartPole-v1                  0.0   [0, 0.25, 0.5, 1]   \n",
       "4               0.00  CartPole-v1                  0.0   [0, 0.25, 0.5, 1]   \n",
       "\n",
       "  search_method  ...  n_iterations    T  n_evals  top_k  \\\n",
       "0            RS  ...            30  200       10      5   \n",
       "1            RS  ...            30  200       10      5   \n",
       "2            RS  ...            30  200       10      5   \n",
       "3            RS  ...            30  200       10      5   \n",
       "4           CEM  ...            30  200       10      5   \n",
       "\n",
       "                                          train_rews  \\\n",
       "0  [9.5, 147.1, 152.7, 157.8, 188.1, 188.8, 150.9...   \n",
       "1  [9.92912878474779, 144.2071209296968, 164.7561...   \n",
       "2  [36.77210630803543, 207.8014216509091, 198.057...   \n",
       "3  [22.800014468682754, 215.11603143189376, 211.8...   \n",
       "4  [9.3, 178.9, 200.0, 200.0, 200.0, 200.0, 200.0...   \n",
       "\n",
       "                                    final_train_rews  \\\n",
       "0  [200.0, 200.0, 200.0, 200.0, 200.0, 200.0, 200...   \n",
       "1  [200.0, 200.0, 200.0, 200.0, 200.0, 200.0, 200...   \n",
       "2  [200.0, 200.0, 200.0, 182.0, 200.0, 200.0, 200...   \n",
       "3  [200.0, 200.0, 164.0, 200.0, 180.0, 200.0, 200...   \n",
       "4  [200.0, 200.0, 200.0, 200.0, 200.0, 200.0, 200...   \n",
       "\n",
       "                                   final_test_rews_0  \\\n",
       "0  [200.0, 200.0, 200.0, 200.0, 200.0, 200.0, 200...   \n",
       "1  [200.0, 200.0, 200.0, 200.0, 200.0, 200.0, 200...   \n",
       "2  [200.0, 200.0, 176.0, 200.0, 200.0, 177.0, 168...   \n",
       "3  [198.0, 200.0, 200.0, 200.0, 200.0, 200.0, 167...   \n",
       "4  [200.0, 200.0, 200.0, 200.0, 200.0, 200.0, 200...   \n",
       "\n",
       "                                final_test_rews_0.25  \\\n",
       "0  [200.0, 200.0, 200.0, 200.0, 200.0, 200.0, 200...   \n",
       "1  [200.0, 200.0, 200.0, 200.0, 158.0, 200.0, 200...   \n",
       "2  [158.0, 200.0, 200.0, 200.0, 200.0, 148.0, 200...   \n",
       "3  [162.0, 189.0, 200.0, 188.0, 168.0, 200.0, 200...   \n",
       "4  [189.0, 200.0, 200.0, 122.0, 200.0, 200.0, 200...   \n",
       "\n",
       "                                 final_test_rews_0.5  \\\n",
       "0  [102.0, 154.0, 200.0, 200.0, 195.0, 200.0, 111...   \n",
       "1  [200.0, 155.0, 135.0, 117.0, 200.0, 200.0, 200...   \n",
       "2  [190.0, 144.0, 200.0, 167.0, 132.0, 200.0, 177...   \n",
       "3  [183.0, 137.0, 26.0, 200.0, 127.0, 151.0, 200....   \n",
       "4  [130.0, 85.0, 67.0, 88.0, 140.0, 150.0, 97.0, ...   \n",
       "\n",
       "                                   final_test_rews_1  \n",
       "0  [117.0, 27.0, 125.0, 145.0, 136.0, 167.0, 132....  \n",
       "1  [95.0, 33.0, 145.0, 39.0, 34.0, 46.0, 139.0, 4...  \n",
       "2  [36.0, 30.0, 130.0, 99.0, 163.0, 22.0, 31.0, 9...  \n",
       "3  [95.0, 159.0, 14.0, 64.0, 21.0, 143.0, 116.0, ...  \n",
       "4  [16.0, 70.0, 24.0, 94.0, 33.0, 120.0, 21.0, 50...  \n",
       "\n",
       "[5 rows x 23 columns]"
      ]
     },
     "execution_count": 4,
     "metadata": {},
     "output_type": "execute_result"
    }
   ],
   "source": [
    "# preview data\n",
    "data.head()"
   ]
  },
  {
   "cell_type": "code",
   "execution_count": 5,
   "metadata": {
    "scrolled": false
   },
   "outputs": [
    {
     "data": {
      "text/plain": [
       "array([[200., 200., 200., ..., 200., 200., 200.],\n",
       "       [200., 200., 200., ..., 200., 200., 200.],\n",
       "       [200., 200., 200., ..., 200., 200., 200.],\n",
       "       ...,\n",
       "       [200., 200., 200., ..., 200., 200., 200.],\n",
       "       [200., 200., 200., ..., 200., 200., 200.],\n",
       "       [200., 200., 200., ..., 200., 200., 200.]])"
      ]
     },
     "execution_count": 5,
     "metadata": {},
     "output_type": "execute_result"
    }
   ],
   "source": [
    "# Example: Get rows that uses the RS search method:\n",
    "np.r_[data.loc[data['std_obs_scale_train'] == 0]['final_train_rews'].to_list()]"
   ]
  },
  {
   "cell_type": "code",
   "execution_count": 6,
   "metadata": {},
   "outputs": [
    {
     "data": {
      "text/plain": [
       "array([[200., 200., 200., ..., 200., 200., 200.],\n",
       "       [200., 200., 200., ..., 200., 200., 200.],\n",
       "       [200., 200., 176., ..., 200., 200., 200.],\n",
       "       ...,\n",
       "       [ 97.,  83., 155., ...,  74., 200., 200.],\n",
       "       [151., 184.,  84., ..., 112., 115.,  85.],\n",
       "       [160.,  78.,  67., ...,  66., 200., 200.]])"
      ]
     },
     "execution_count": 6,
     "metadata": {},
     "output_type": "execute_result"
    }
   ],
   "source": [
    "# Example: Get train rewards of rows that uses the RS search method as an np array:\n",
    "np.r_[data.loc[data['search_method'] == 'RS']['final_test_rews_0'].to_list()]"
   ]
  },
  {
   "cell_type": "code",
   "execution_count": 7,
   "metadata": {},
   "outputs": [
    {
     "data": {
      "text/plain": [
       "array([200., 200., 200., 200., 200., 200., 200., 200., 200., 200.])"
      ]
     },
     "execution_count": 7,
     "metadata": {},
     "output_type": "execute_result"
    }
   ],
   "source": [
    "# Example: Get train rewards of rows that uses the RS search method and trained w/ std_obs_scale_train=0.5 as an np array:\n",
    "np.c_[data.loc[ (data['seed'] == 0) & (data['search_method'] == 'RS') & (data['std_obs_scale_train'] == 0) & (data['weight_std_reward'] == 0) & (data['weight_std_policy'] == 0)]['final_test_rews_0'].to_list()][0]"
   ]
  },
  {
   "cell_type": "code",
   "execution_count": 75,
   "metadata": {},
   "outputs": [
    {
     "data": {
      "text/plain": [
       "array([[110.,  92.,  89.,  78.,  70.,  30.,  60.,  36.,  58.,  52.],\n",
       "       [199.,  81.,  30., 141., 200., 120., 158., 114.,  48., 150.],\n",
       "       [ 81., 143., 168., 172., 111., 135., 123., 139., 122., 137.],\n",
       "       [200., 101., 118.,  58., 200.,  81., 200., 200., 116., 109.],\n",
       "       [141., 200., 131., 153., 116., 188.,  91., 156., 110., 159.],\n",
       "       [ 54.,  67.,  47.,  64.,  69.,  69., 146., 104., 122., 137.],\n",
       "       [200., 200., 200., 200., 200.,  75., 200., 140., 200., 200.],\n",
       "       [101.,  56., 102.,  76.,  73., 122., 120., 100.,  93., 156.]])"
      ]
     },
     "execution_count": 75,
     "metadata": {},
     "output_type": "execute_result"
    }
   ],
   "source": [
    "# Example: Get train rewards of rows that uses the RS search method and trained w/ std_obs_scale_train=0.5 as an np array:\n",
    "np.r_[data.loc[(data['search_method'] == 'GA') & (data['seed'] == 0) & (data['std_obs_scale_train'] == 1)]['final_test_rews_1'].to_list()]"
   ]
  },
  {
   "cell_type": "code",
   "execution_count": 56,
   "metadata": {},
   "outputs": [
    {
     "data": {
      "text/plain": [
       "array([[200., 171., 200., ..., 200., 200., 200.],\n",
       "       [137., 200., 200., ..., 148., 200., 128.],\n",
       "       [142., 156., 137., ..., 200., 171., 128.],\n",
       "       ...,\n",
       "       [158., 151., 162., ..., 173., 163., 146.],\n",
       "       [122., 170., 180., ..., 144., 116., 114.],\n",
       "       [200., 119., 155., ..., 160., 129., 122.]])"
      ]
     },
     "execution_count": 56,
     "metadata": {},
     "output_type": "execute_result"
    }
   ],
   "source": [
    "np.r_[data.loc[data['seed'] == 1]['final_test_rews_0.25'].to_list()]"
   ]
  },
  {
   "cell_type": "code",
   "execution_count": 62,
   "metadata": {},
   "outputs": [
    {
     "ename": "IndexError",
     "evalue": "index 1 is out of bounds for axis 0 with size 0",
     "output_type": "error",
     "traceback": [
      "\u001b[1;31m---------------------------------------------------------------------------\u001b[0m",
      "\u001b[1;31mIndexError\u001b[0m                                Traceback (most recent call last)",
      "\u001b[1;32m<ipython-input-62-db71fe589da3>\u001b[0m in \u001b[0;36m<module>\u001b[1;34m\u001b[0m\n\u001b[1;32m----> 1\u001b[1;33m \u001b[0mnp\u001b[0m\u001b[1;33m.\u001b[0m\u001b[0mc_\u001b[0m\u001b[1;33m[\u001b[0m\u001b[0mdata\u001b[0m\u001b[1;33m.\u001b[0m\u001b[0mloc\u001b[0m\u001b[1;33m[\u001b[0m\u001b[1;33m(\u001b[0m\u001b[0mdata\u001b[0m\u001b[1;33m[\u001b[0m\u001b[1;34m'search_method'\u001b[0m\u001b[1;33m]\u001b[0m \u001b[1;33m==\u001b[0m \u001b[1;34m'RS'\u001b[0m\u001b[1;33m)\u001b[0m \u001b[1;33m&\u001b[0m \u001b[1;33m(\u001b[0m\u001b[0mdata\u001b[0m\u001b[1;33m[\u001b[0m\u001b[1;34m'seed'\u001b[0m\u001b[1;33m]\u001b[0m \u001b[1;33m==\u001b[0m \u001b[1;34m'0'\u001b[0m\u001b[1;33m)\u001b[0m\u001b[1;33m]\u001b[0m\u001b[1;33m[\u001b[0m\u001b[1;34m'final_test_rews_0'\u001b[0m\u001b[1;33m]\u001b[0m\u001b[1;33m.\u001b[0m\u001b[0mto_list\u001b[0m\u001b[1;33m(\u001b[0m\u001b[1;33m)\u001b[0m\u001b[1;33m]\u001b[0m\u001b[1;33m[\u001b[0m\u001b[1;36m1\u001b[0m\u001b[1;33m]\u001b[0m\u001b[1;33m\u001b[0m\u001b[0m\n\u001b[0m",
      "\u001b[1;31mIndexError\u001b[0m: index 1 is out of bounds for axis 0 with size 0"
     ]
    }
   ],
   "source": [
    "np.c_[data.loc[(data['search_method'] == 'RS') & (data['seed'] == '0')]['final_test_rews_0'].to_list()]"
   ]
  },
  {
   "cell_type": "code",
   "execution_count": 102,
   "metadata": {},
   "outputs": [
    {
     "data": {
      "text/plain": [
       "array([81., 36., 57., 79., 79., 15., 77., 82., 16., 19.])"
      ]
     },
     "execution_count": 102,
     "metadata": {},
     "output_type": "execute_result"
    }
   ],
   "source": [
    "np.r_[data.loc[ (data['seed'] == 0) & (data['search_method'] == 'GA')]['final_test_rews_1'].to_list()][0]"
   ]
  },
  {
   "cell_type": "code",
   "execution_count": null,
   "metadata": {},
   "outputs": [],
   "source": []
  }
 ],
 "metadata": {
  "kernelspec": {
   "display_name": "Python 3",
   "language": "python",
   "name": "python3"
  },
  "language_info": {
   "codemirror_mode": {
    "name": "ipython",
    "version": 3
   },
   "file_extension": ".py",
   "mimetype": "text/x-python",
   "name": "python",
   "nbconvert_exporter": "python",
   "pygments_lexer": "ipython3",
   "version": "3.7.4"
  }
 },
 "nbformat": 4,
 "nbformat_minor": 2
}
